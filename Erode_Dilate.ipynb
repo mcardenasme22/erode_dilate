{
  "nbformat": 4,
  "nbformat_minor": 0,
  "metadata": {
    "colab": {
      "private_outputs": true,
      "provenance": []
    },
    "kernelspec": {
      "name": "python3",
      "display_name": "Python 3"
    },
    "language_info": {
      "name": "python"
    }
  },
  "cells": [
    {
      "cell_type": "code",
      "execution_count": null,
      "metadata": {
        "id": "L8_cTzVkWDB0"
      },
      "outputs": [],
      "source": [
        "import matplotlib.pyplot as plt\n",
        "import cv2\n",
        "import numpy as np"
      ]
    },
    {
      "cell_type": "code",
      "source": [
        "img = (cv2.imread('./x.png')[...,0] > 0)*255\n",
        "img = img.astype(np.uint8)\n",
        "\n",
        "img_noise = img + np.random.randint(2, size=(img.shape[0], img.shape[1]), dtype=np.uint8)*255\n",
        "\n",
        "kernel = np.ones((3, 3), np.uint8)\n",
        "\n",
        "img_erode = cv2.erode(img_noise, kernel)\n",
        "\n",
        "plt.subplot(121)\n",
        "plt.imshow(img)\n",
        "\n",
        "plt.subplot(122)\n",
        "plt.imshow(img_erode)"
      ],
      "metadata": {
        "id": "2PoWL7EgWMfI"
      },
      "execution_count": null,
      "outputs": []
    },
    {
      "cell_type": "code",
      "source": [
        "image = 1/255 * (img)"
      ],
      "metadata": {
        "id": "-lm1QKWCaAcF"
      },
      "execution_count": null,
      "outputs": []
    },
    {
      "cell_type": "code",
      "source": [
        "filas = image.shape[0] \n",
        "columnas = image.shape[1] \n",
        "print(filas, columnas)"
      ],
      "metadata": {
        "id": "4Na-owdflN8-"
      },
      "execution_count": null,
      "outputs": []
    },
    {
      "cell_type": "code",
      "source": [
        "#la primera y la última fila debe ser de ceros\n",
        "r = np.zeros(columnas+2)\n",
        "\n",
        "#en cada fila se pone un 0 al inicio y al final\n",
        "rows = []\n",
        "for i in range(filas): #cantidad de filas\n",
        "  rows.append(0)\n",
        "  for j in range(columnas): #cantidad de columnas\n",
        "    rows.append(image[i][j])\n",
        "  rows.append(0)\n",
        "\n",
        "rows2 = np.array(rows)"
      ],
      "metadata": {
        "id": "3HHLeyqbanrV"
      },
      "execution_count": null,
      "outputs": []
    },
    {
      "cell_type": "code",
      "source": [
        "#se juntan la primera y la última fila con el resto\n",
        "matrix = np.concatenate((r, rows2), axis=0)\n",
        "matrix2 = np.concatenate((matrix, r), axis=0)\n",
        "\n",
        "#se convierte a 2D\n",
        "new_matrix = np.reshape(matrix2, (image.shape[0]+2, image.shape[1]+2))"
      ],
      "metadata": {
        "id": "QA4OeVdOkkMf"
      },
      "execution_count": null,
      "outputs": []
    },
    {
      "cell_type": "code",
      "source": [
        "new_matrix.shape"
      ],
      "metadata": {
        "id": "ubqE2x1YiuXC"
      },
      "execution_count": null,
      "outputs": []
    },
    {
      "cell_type": "code",
      "source": [
        "#se recorre la matriz con margen \n",
        "\n",
        "conv_result = []\n",
        "for i in range(new_matrix.shape[0]-2):\n",
        "  for j in range(new_matrix.shape[1]-2):\n",
        "    test = new_matrix[i:i+3, j:j+3]\n",
        "    factor = test * kernel\n",
        "    sum = 0\n",
        "    for x in range(3):\n",
        "      for y in range(3):\n",
        "        n = factor[x][y]\n",
        "        sum = sum + n\n",
        "    if (sum == 9): #si es igual al kernel\n",
        "      conv_result.append(1)\n",
        "    else:\n",
        "      conv_result.append(0)"
      ],
      "metadata": {
        "id": "-m49Yb52o2E6"
      },
      "execution_count": null,
      "outputs": []
    },
    {
      "cell_type": "code",
      "source": [
        "result = np.array(conv_result)\n",
        "new_image = np.reshape(result, (filas, columnas))\n",
        "plt.imshow(new_image)"
      ],
      "metadata": {
        "id": "i5ue-1D40rPs"
      },
      "execution_count": null,
      "outputs": []
    },
    {
      "cell_type": "markdown",
      "source": [
        "Dilate"
      ],
      "metadata": {
        "id": "3bJXlo7uZx2s"
      }
    },
    {
      "cell_type": "code",
      "source": [
        "conv_result = []\n",
        "for i in range(new_matrix.shape[0]-2):\n",
        "  for j in range(new_matrix.shape[1]-2):\n",
        "    test = new_matrix[i:i+3, j:j+3]\n",
        "    factor = test * kernel\n",
        "    sum = 0\n",
        "    for x in range(3):\n",
        "      for y in range(3):\n",
        "        n = factor[x][y]\n",
        "        sum = sum + n\n",
        "    if (sum == 0): #si es igual al kernel\n",
        "      conv_result.append(0)\n",
        "    else:\n",
        "      conv_result.append(1)"
      ],
      "metadata": {
        "id": "3YHh-ea1Zy2-"
      },
      "execution_count": null,
      "outputs": []
    },
    {
      "cell_type": "code",
      "source": [
        "result = np.array(conv_result)\n",
        "new_image = np.reshape(result, (filas, columnas))\n",
        "plt.imshow(new_image)"
      ],
      "metadata": {
        "id": "5NXjD1soal9k"
      },
      "execution_count": null,
      "outputs": []
    },
    {
      "cell_type": "markdown",
      "source": [
        "Borders"
      ],
      "metadata": {
        "id": "0mO7M1A8auvo"
      }
    },
    {
      "cell_type": "code",
      "source": [
        "borders = img - cv2.erode(img, kernel)\n",
        "plt.imshow(borders)"
      ],
      "metadata": {
        "id": "Po6n2Nk3avoT"
      },
      "execution_count": null,
      "outputs": []
    }
  ]
}